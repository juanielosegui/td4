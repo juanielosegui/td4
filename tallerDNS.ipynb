{
  "cells": [
    {
      "cell_type": "markdown",
      "metadata": {
        "id": "evU1xLge5kWI"
      },
      "source": [
        "# Taller DNS\n",
        "En este taller vamos a trabajar sobre el protocolo DNS. Utilizaremos la biblioteca [**Scapy**](https://scapy.readthedocs.io/en/latest/) de Python, que nos permite armar paquetes de forma super sencilla, usando las capas que probamos. Ejecuten la siguiente celda para instalarlo en este collab de ahora:\n",
        "\n"
      ]
    },
    {
      "cell_type": "code",
      "execution_count": 44,
      "metadata": {
        "colab": {
          "base_uri": "https://localhost:8080/"
        },
        "id": "5zOGK9DO3Fvp",
        "outputId": "adb8ae69-eca2-4eb2-dc79-ab51b0138d84"
      },
      "outputs": [
        {
          "name": "stdout",
          "output_type": "stream",
          "text": [
            "Requirement already satisfied: scapy in c:\\users\\juani\\appdata\\local\\programs\\python\\python312\\lib\\site-packages (2.5.0)\n",
            "Note: you may need to restart the kernel to use updated packages.\n"
          ]
        }
      ],
      "source": [
        "%pip install scapy\n",
        "import scapy.all as scapy\n",
        "from scapy.layers.inet import IP\n",
        "from scapy.layers.inet import TCP\n",
        "from scapy.layers.inet import UDP\n",
        "from scapy.layers.dns import DNS, DNSQR"
      ]
    },
    {
      "cell_type": "markdown",
      "metadata": {
        "id": "mIvvF8uH55bi"
      },
      "source": [
        "A continuación, importemos Scapy y armemos nuestro primer paquete. Vamos a crear un paquete IP, que pertenece a la capa de Red (todavía no vimos en profundidad esta capa, pero nos vamos a adelantar un poco a la teoría para poder completar este taller)."
      ]
    },
    {
      "cell_type": "code",
      "execution_count": 45,
      "metadata": {
        "colab": {
          "base_uri": "https://localhost:8080/"
        },
        "id": "1D7C7yKC3Whi",
        "outputId": "7843ee41-13c2-4056-8c61-6b7e2b4a51ec"
      },
      "outputs": [
        {
          "data": {
            "text/plain": [
              "<IP  ttl=64 dst=Net(\"www.google.com/32\") |>"
            ]
          },
          "execution_count": 45,
          "metadata": {},
          "output_type": "execute_result"
        }
      ],
      "source": [
        "pck = IP() # Creamos un paquete inicializado con valores default\n",
        "pck.ttl = 64 # \"Le definimos un TTl. Con esto ya podríamos simular un traceroute!\n",
        "pck.dst = \"www.google.com\" # Le definimos una URL destino\n",
        "pck"
      ]
    },
    {
      "cell_type": "markdown",
      "metadata": {
        "id": "521Urwkg7SIb"
      },
      "source": [
        "# **Ejercicio 0**\n",
        "Además de crear paquetes, también podemos enviarlos usando Scapy. En este caso, vamos a enviar un paquete con un TTL bajo para que el paquete no llegue a su destino, e inspeccionar la respuesta. Para este ejercicio entonces deberán:\n",
        "- Crear un `paquete` con TTL bajo\n",
        "- Enviarlo al destino usando la funcion `sr1(paquete)`\n",
        "- Si obtienen una respuesta, mostrarla usando la funcion `show()`"
      ]
    },
    {
      "cell_type": "code",
      "execution_count": 49,
      "metadata": {
        "id": "UpNDY5ry4ycq"
      },
      "outputs": [
        {
          "name": "stdout",
          "output_type": "stream",
          "text": [
            "Begin emission:\n",
            "Finished sending 1 packets.\n",
            "\n",
            "Received 2 packets, got 1 answers, remaining 0 packets\n"
          ]
        },
        {
          "data": {
            "text/plain": [
              "<IP  version=4 ihl=5 tos=0xc0 len=48 id=19170 flags= frag=0 ttl=64 proto=icmp chksum=0xadd3 src=192.168.0.1 dst=192.168.0.6 |<ICMP  type=time-exceeded code=ttl-zero-during-transit chksum=0xf4ff reserved=0 length=0 unused=0 |<IPerror  version=4 ihl=5 tos=0x0 len=20 id=1 flags= frag=0 ttl=1 proto=ip chksum=0xe92b src=192.168.0.6 dst=8.8.8.8 |>>>"
            ]
          },
          "execution_count": 49,
          "metadata": {},
          "output_type": "execute_result"
        }
      ],
      "source": [
        "paqueteTTL = 1\n",
        "paqueteDST = \"www.google.com\"\n",
        "paquete = IP(ttl=paqueteTTL, dst='8.8.8.8')\n",
        "\n",
        "scapy.sr1(paquete)\n"
      ]
    },
    {
      "cell_type": "markdown",
      "metadata": {
        "id": "tsuzPfV68V_M"
      },
      "source": [
        "Ahora ya sabemos como mandar paquetes IP (capa de Red).\n",
        "Pero también podemos especificar qué protocolo de la capa superior quisieramos usar. A nivel transporte podemos elegir TCP o UDP.\n",
        "Este tipo de indicaciones las podemos hacer usando la `\"/\"`."
      ]
    },
    {
      "cell_type": "code",
      "execution_count": 42,
      "metadata": {
        "id": "Rgu7UkjX9rMy"
      },
      "outputs": [
        {
          "data": {
            "text/plain": [
              "<IP  frag=0 ttl=64 proto=tcp dst=Net(\"www.google.com/32\") |<TCP  |>>"
            ]
          },
          "execution_count": 42,
          "metadata": {},
          "output_type": "execute_result"
        }
      ],
      "source": [
        "import scapy.all as scapy\n",
        "pck = IP(ttl = 64, dst = \"www.google.com\") / TCP() # Creamos un paquete en la capa de transporte (igualmente le podemos cambiar cosas de la capa de abajo! como el TTL)\n",
        "pck.dst = \"www.google.com\" # Le definimos una URL destino\n",
        "pck"
      ]
    },
    {
      "cell_type": "markdown",
      "metadata": {
        "id": "JQd5X_RpBKZN"
      },
      "source": [
        "# **Ejercicio 1**\n",
        "Deberán armar un paquete DNS y recibir la respuesta. En particular, resuelvan la direccion www.google.com  Para eso tendrán que:\n",
        "\n",
        "    1- Crear un paquete IP. Su destino debe ser el de algún servidor DNS (Por ejemplo, el DNS publico de *google* es **8.8.8.8**)\n",
        "\n",
        "    2- Asignarle un protocolo de capa de transporte a ese paquete. ¿Debería un request DNS ser UDP o TCP? ¿Que puerto de destino debería tener un request DNS?\n",
        "\n",
        "    3- Al mismo paquete, deben modificale info a nivel aplicación (usen \\ DNS() ).\n",
        "    \n",
        "    4- Inspeccionen las respuestas recibidas y analicen el paquete. ¿La IP en la respuesta correspondiente efectivamente a www.google.com? (Esto lo podemos verificar enviando un *ping* a la dirección, o ingresando a http://*ip_recibido* desde el navegador).\n",
        "\n",
        "Al paquete DNS deberán definirle algunos campos. Revisen la [documentación](https://scapy.readthedocs.io/en/latest/api/scapy.layers.dns.html?highlight=dns#scapy.layers.dns.DNS.fields_desc) de los paquetes DNS para determinar cómo usar la función `DNSQR` para modificar campos de su query. En particular, se necesitará modificar el campo QD (cuerpo) del paquete, formado por:\n",
        "\n",
        "    a) qname: el nombre a resolver.\n",
        "    b) qtype: si se resuelve un mail o una página web.\n",
        "\n",
        "\n",
        "\n"
      ]
    },
    {
      "cell_type": "code",
      "execution_count": 55,
      "metadata": {
        "id": "H_jOF6B0bvOK"
      },
      "outputs": [
        {
          "name": "stdout",
          "output_type": "stream",
          "text": [
            "###[ IP ]### \n",
            "  version   = 4\n",
            "  ihl       = 5\n",
            "  tos       = 0x0\n",
            "  len       = 76\n",
            "  id        = 3157\n",
            "  flags     = \n",
            "  frag      = 0\n",
            "  ttl       = 119\n",
            "  proto     = udp\n",
            "  chksum    = 0x668e\n",
            "  src       = 8.8.8.8\n",
            "  dst       = 192.168.0.6\n",
            "  \\options   \\\n",
            "###[ UDP ]### \n",
            "     sport     = domain\n",
            "     dport     = domain\n",
            "     len       = 56\n",
            "     chksum    = 0x4ae4\n",
            "###[ DNS ]### \n",
            "        id        = 0\n",
            "        qr        = 1\n",
            "        opcode    = QUERY\n",
            "        aa        = 0\n",
            "        tc        = 0\n",
            "        rd        = 1\n",
            "        ra        = 1\n",
            "        z         = 0\n",
            "        ad        = 0\n",
            "        cd        = 0\n",
            "        rcode     = ok\n",
            "        qdcount   = 1\n",
            "        ancount   = 1\n",
            "        nscount   = 0\n",
            "        arcount   = 0\n",
            "        \\qd        \\\n",
            "         |###[ DNS Question Record ]### \n",
            "         |  qname     = 'www.google.com.'\n",
            "         |  qtype     = A\n",
            "         |  qclass    = IN\n",
            "        \\an        \\\n",
            "         |###[ DNS Resource Record ]### \n",
            "         |  rrname    = 'www.google.com.'\n",
            "         |  type      = A\n",
            "         |  rclass    = IN\n",
            "         |  ttl       = 54\n",
            "         |  rdlen     = 4\n",
            "         |  rdata     = 142.251.133.4\n",
            "        ns        = None\n",
            "        ar        = None\n",
            "\n"
          ]
        }
      ],
      "source": [
        "paquete = IP(ttl=64, dst='8.8.8.8') / UDP(dport=53) / DNS(rd = 1, qd = DNSQR(qname='www.google.com', qtype='A'))\n",
        "respuesta = scapy.sr1(paquete, verbose = 0)\n",
        "respuesta.show()"
      ]
    },
    {
      "cell_type": "markdown",
      "metadata": {
        "id": "sfcMhs4mU9J0"
      },
      "source": [
        "## Ejercicio 2\n",
        "\n",
        "Como vieron en la clase teórica, las consultas DNS pueden resolverse de manera iterativa. Es decir que el servidor (**8.8.8.8** en el caso del ejercicio anterior) va a realizar una consulta a cada *nameserver* que especifica una zona en la url.\n",
        "\n",
        "Por ejemplo, en la url www.google.com primero se va a resolver el servidor correspondiente a **.com** y luego, a este servidor se le va a preguntar por la dirección correspondiente al nameserver autoritativo de **.google**.\n",
        "\n",
        "Pero, ¿qué servidor sabe la dirección del nameserver **.com** originalmente?. Para ello existen los llamados **Root Name Servers**. Estos tienen direcciones IP constantes, con lo cual no debemos resolverla y por lo tanto son siempre el punto de partida para cualquier resolución. Pueden visitar este [link](https://en.wikipedia.org/wiki/Root_name_server) para ver la lista completa de **RNSs**.\n",
        "\n",
        "    1- Enviar misma consulta del ejercicio anterior pero a un Root name server. ¿Nos da el mismo resultado que antes?\n",
        "    2- Realizar las consultas iterativas para obtener la dirección IP de la url *www.google.com*."
      ]
    },
    {
      "cell_type": "code",
      "execution_count": 25,
      "metadata": {
        "id": "7aL9iS_Gfgb9"
      },
      "outputs": [],
      "source": [
        "# RESOLVER ACA"
      ]
    }
  ],
  "metadata": {
    "colab": {
      "provenance": []
    },
    "kernelspec": {
      "display_name": "Python 3",
      "name": "python3"
    },
    "language_info": {
      "codemirror_mode": {
        "name": "ipython",
        "version": 3
      },
      "file_extension": ".py",
      "mimetype": "text/x-python",
      "name": "python",
      "nbconvert_exporter": "python",
      "pygments_lexer": "ipython3",
      "version": "3.12.3"
    }
  },
  "nbformat": 4,
  "nbformat_minor": 0
}
