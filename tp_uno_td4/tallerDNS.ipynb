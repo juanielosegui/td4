{
  "cells": [
    {
      "cell_type": "markdown",
      "metadata": {
        "id": "evU1xLge5kWI"
      },
      "source": [
        "# Taller DNS\n",
        "En este taller vamos a trabajar sobre el protocolo DNS. Utilizaremos la biblioteca [**Scapy**](https://scapy.readthedocs.io/en/latest/) de Python, que nos permite armar paquetes de forma super sencilla, usando las capas que probamos. Ejecuten la siguiente celda para instalarlo en este collab de ahora:\n",
        "\n"
      ]
    },
    {
      "cell_type": "code",
      "execution_count": 1,
      "metadata": {
        "colab": {
          "base_uri": "https://localhost:8080/"
        },
        "id": "5zOGK9DO3Fvp",
        "outputId": "adb8ae69-eca2-4eb2-dc79-ab51b0138d84"
      },
      "outputs": [
        {
          "name": "stdout",
          "output_type": "stream",
          "text": [
            "Requirement already satisfied: scapy in c:\\users\\juani\\appdata\\local\\programs\\python\\python312\\lib\\site-packages (2.5.0)\n",
            "Note: you may need to restart the kernel to use updated packages.\n"
          ]
        },
        {
          "name": "stderr",
          "output_type": "stream",
          "text": [
            "WARNING: Wireshark is installed, but cannot read manuf !\n"
          ]
        }
      ],
      "source": [
        "%pip install scapy\n",
        "import scapy.all as scapy"
      ]
    },
    {
      "cell_type": "markdown",
      "metadata": {
        "id": "mIvvF8uH55bi"
      },
      "source": [
        "A continuación, importemos Scapy y armemos nuestro primer paquete. Vamos a crear un paquete IP, que pertenece a la capa de Red (todavía no vimos en profundidad esta capa, pero nos vamos a adelantar un poco a la teoría para poder completar este taller)."
      ]
    },
    {
      "cell_type": "code",
      "execution_count": 2,
      "metadata": {
        "colab": {
          "base_uri": "https://localhost:8080/"
        },
        "id": "1D7C7yKC3Whi",
        "outputId": "7843ee41-13c2-4056-8c61-6b7e2b4a51ec"
      },
      "outputs": [
        {
          "ename": "AttributeError",
          "evalue": "module 'scapy' has no attribute 'IP'",
          "output_type": "error",
          "traceback": [
            "\u001b[1;31m---------------------------------------------------------------------------\u001b[0m",
            "\u001b[1;31mAttributeError\u001b[0m                            Traceback (most recent call last)",
            "Cell \u001b[1;32mIn[2], line 1\u001b[0m\n\u001b[1;32m----> 1\u001b[0m pck \u001b[38;5;241m=\u001b[39m \u001b[43mscapy\u001b[49m\u001b[38;5;241;43m.\u001b[39;49m\u001b[43mIP\u001b[49m() \u001b[38;5;66;03m# Creamos un paquete inicializado con valores default\u001b[39;00m\n\u001b[0;32m      2\u001b[0m pck\u001b[38;5;241m.\u001b[39mttl \u001b[38;5;241m=\u001b[39m \u001b[38;5;241m64\u001b[39m \u001b[38;5;66;03m# \"Le definimos un TTl. Con esto ya podríamos simular un traceroute!\u001b[39;00m\n\u001b[0;32m      3\u001b[0m pck\u001b[38;5;241m.\u001b[39mdst \u001b[38;5;241m=\u001b[39m \u001b[38;5;124m\"\u001b[39m\u001b[38;5;124mwww.google.com\u001b[39m\u001b[38;5;124m\"\u001b[39m \u001b[38;5;66;03m# Le definimos una URL destino\u001b[39;00m\n",
            "\u001b[1;31mAttributeError\u001b[0m: module 'scapy' has no attribute 'IP'"
          ]
        }
      ],
      "source": [
        "pck = scapy.IP() # Creamos un paquete inicializado con valores default\n",
        "pck.ttl = 64 # \"Le definimos un TTl. Con esto ya podríamos simular un traceroute!\n",
        "pck.dst = \"www.google.com\" # Le definimos una URL destino\n",
        "pck"
      ]
    },
    {
      "cell_type": "markdown",
      "metadata": {
        "id": "521Urwkg7SIb"
      },
      "source": [
        "# **Ejercicio 0**\n",
        "Además de crear paquetes, también podemos enviarlos usando Scapy. En este caso, vamos a enviar un paquete con un TTL bajo para que el paquete no llegue a su destino, e inspeccionar la respuesta. Para este ejercicio entonces deberán:\n",
        "- Crear un `paquete` con TTL bajo\n",
        "- Enviarlo al destino usando la funcion `sr1(paquete)`\n",
        "- Si obtienen una respuesta, mostrarla usando la funcion `show()`"
      ]
    },
    {
      "cell_type": "code",
      "execution_count": null,
      "metadata": {
        "id": "UpNDY5ry4ycq"
      },
      "outputs": [],
      "source": [
        "#RESOLVER ACÁ"
      ]
    },
    {
      "cell_type": "markdown",
      "metadata": {
        "id": "tsuzPfV68V_M"
      },
      "source": [
        "Ahora ya sabemos como mandar paquetes IP (capa de Red).\n",
        "Pero también podemos especificar qué protocolo de la capa superior quisieramos usar. A nivel transporte podemos elegir TCP o UDP.\n",
        "Este tipo de indicaciones las podemos hacer usando la `\"/\"`."
      ]
    },
    {
      "cell_type": "code",
      "execution_count": null,
      "metadata": {
        "id": "Rgu7UkjX9rMy"
      },
      "outputs": [],
      "source": [
        "import scapy.all as scapy\n",
        "pck = scapy.IP(ttl = 64, dst = \"www.google.com\") / scapy.TCP() # Creamos un paquete en la capa de transporte (igualmente le podemos cambiar cosas de la capa de abajo! como el TTL)\n",
        "pck.dst = \"www.google.com\" # Le definimos una URL destino\n",
        "pck"
      ]
    },
    {
      "cell_type": "markdown",
      "metadata": {
        "id": "JQd5X_RpBKZN"
      },
      "source": [
        "# **Ejercicio 1**\n",
        "Deberán armar un paquete DNS y recibir la respuesta. En particular, resuelvan la direccion www.google.com  Para eso tendrán que:\n",
        "\n",
        "    1- Crear un paquete IP. Su destino debe ser el de algún servidor DNS (Por ejemplo, el DNS publico de *google* es **8.8.8.8**)\n",
        "\n",
        "    2- Asignarle un protocolo de capa de transporte a ese paquete. ¿Debería un request DNS ser UDP o TCP? ¿Que puerto de destino debería tener un request DNS?\n",
        "\n",
        "    3- Al mismo paquete, deben modificale info a nivel aplicación (usen \\ DNS() ).\n",
        "    \n",
        "    4- Inspeccionen las respuestas recibidas y analicen el paquete. ¿La IP en la respuesta correspondiente efectivamente a www.google.com? (Esto lo podemos verificar enviando un *ping* a la dirección, o ingresando a http://*ip_recibido* desde el navegador).\n",
        "\n",
        "Al paquete DNS deberán definirle algunos campos. Revisen la [documentación](https://scapy.readthedocs.io/en/latest/api/scapy.layers.dns.html?highlight=dns#scapy.layers.dns.DNS.fields_desc) de los paquetes DNS para determinar cómo usar la función `DNSQR` para modificar campos de su query. En particular, se necesitará modificar el campo QD (cuerpo) del paquete, formado por:\n",
        "\n",
        "    a) qname: el nombre a resolver.\n",
        "    b) qtype: si se resuelve un mail o una página web.\n",
        "\n",
        "\n",
        "\n"
      ]
    },
    {
      "cell_type": "code",
      "execution_count": null,
      "metadata": {
        "id": "H_jOF6B0bvOK"
      },
      "outputs": [],
      "source": [
        "# RESOLVER ACA"
      ]
    },
    {
      "cell_type": "markdown",
      "metadata": {
        "id": "sfcMhs4mU9J0"
      },
      "source": [
        "## Ejercicio 2\n",
        "\n",
        "Como vieron en la clase teórica, las consultas DNS pueden resolverse de manera iterativa. Es decir que el servidor (**8.8.8.8** en el caso del ejercicio anterior) va a realizar una consulta a cada *nameserver* que especifica una zona en la url.\n",
        "\n",
        "Por ejemplo, en la url www.google.com primero se va a resolver el servidor correspondiente a **.com** y luego, a este servidor se le va a preguntar por la dirección correspondiente al nameserver autoritativo de **.google**.\n",
        "\n",
        "Pero, ¿qué servidor sabe la dirección del nameserver **.com** originalmente?. Para ello existen los llamados **Root Name Servers**. Estos tienen direcciones IP constantes, con lo cual no debemos resolverla y por lo tanto son siempre el punto de partida para cualquier resolución. Pueden visitar este [link](https://en.wikipedia.org/wiki/Root_name_server) para ver la lista completa de **RNSs**.\n",
        "\n",
        "    1- Enviar misma consulta del ejercicio anterior pero a un Root name server. ¿Nos da el mismo resultado que antes?\n",
        "    2- Realizar las consultas iterativas para obtener la dirección IP de la url *www.google.com*."
      ]
    },
    {
      "cell_type": "code",
      "execution_count": null,
      "metadata": {
        "id": "7aL9iS_Gfgb9"
      },
      "outputs": [],
      "source": [
        "# RESOLVER ACA"
      ]
    }
  ],
  "metadata": {
    "colab": {
      "provenance": []
    },
    "kernelspec": {
      "display_name": "Python 3",
      "name": "python3"
    },
    "language_info": {
      "codemirror_mode": {
        "name": "ipython",
        "version": 3
      },
      "file_extension": ".py",
      "mimetype": "text/x-python",
      "name": "python",
      "nbconvert_exporter": "python",
      "pygments_lexer": "ipython3",
      "version": "3.12.3"
    }
  },
  "nbformat": 4,
  "nbformat_minor": 0
}
