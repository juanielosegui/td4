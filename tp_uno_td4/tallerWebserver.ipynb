{
 "cells": [
  {
   "cell_type": "markdown",
   "id": "144c2767",
   "metadata": {},
   "source": [
    "# Arranquemos! \n",
    "Lo primero que vamos a hacer es crear un (listening) socket TCP. cuando llamamos a la función *socket* le vamos a pasar como parámetro \"SOCK_STREAM\" para lograr esto."
   ]
  },
  {
   "cell_type": "code",
   "execution_count": 1,
   "id": "566c93a8",
   "metadata": {},
   "outputs": [
    {
     "name": "stdout",
     "output_type": "stream",
     "text": [
      "<socket.socket fd=940, family=AddressFamily.AF_INET, type=SocketKind.SOCK_STREAM, proto=0>\n"
     ]
    }
   ],
   "source": [
    "from socket import *\n",
    "import sys \n",
    "\n",
    "serverSocket = socket(AF_INET, SOCK_STREAM)\n",
    "print(serverSocket)"
   ]
  },
  {
   "cell_type": "markdown",
   "id": "909d5284",
   "metadata": {},
   "source": [
    "# Ahora preparemos el socket...\n",
    "Para esto tenemos que primero, asignarle un número de puerto y dirección IP. Revisen el cheatsheet!\n",
    "Luego vamos a hacer que nuestro programa de Python _escuche_ en el socket."
   ]
  },
  {
   "cell_type": "code",
   "execution_count": 2,
   "id": "dfc27d38",
   "metadata": {},
   "outputs": [
    {
     "name": "stdout",
     "output_type": "stream",
     "text": [
      "<socket.socket fd=940, family=AddressFamily.AF_INET, type=SocketKind.SOCK_STREAM, proto=0, laddr=('0.0.0.0', 2190)>\n"
     ]
    }
   ],
   "source": [
    "#COMPLETAR (son 2 líneas solamente ;) )\n",
    "direccion = \"\"\n",
    "puerto = 2190\n",
    "serverSocket.bind((direccion, puerto))\n",
    "serverSocket.listen(1) # preparamos el socket para que espere mensajes\n",
    "print(serverSocket)\n",
    "\n",
    "# si nos tira error es porque no se puede usar el mismo socket dos veces!"
   ]
  },
  {
   "cell_type": "markdown",
   "id": "22d03738",
   "metadata": {},
   "source": [
    "# Listo! Ahora vamos a tener que quedarnos escuchando en el server hasta que alguien nos mande algo...\n",
    "Con lo que hicimos hasta ahora, si le llega a nuestro SO un paquete con cierta dirección IP y nro de puerto, nos llega a nosotros. Recordemos que:\n",
    "- Debemos quedarnos \"esperando\" hasta que nos llegue un paquete.\n",
    "- Si nos llega alguno, es algun usuario que quiere conectarse. En ese caso, necesitamos un socket nuevo para esta conexión! Noten que en el código de abajo, se hace esto en la tercera línea\n",
    "- Una vez que abramos un nuevo socket (connection socket), hay que esperar que nos llegue un mensaje...\n",
    "\n",
    "En el código de abajo faltan resolver algunas cosas.\n",
    "1) Hay que encargarse de leer el mensaje que recibirá el connection socket.\n",
    "2) Hay que encargarse de resolver que recurso nos están enviando (por ejemplo, información guardada en un txt).\n",
    "3) En caso de encontrar el recurso pedido, hay que enviar primero un OK y después el recurso en sí.\n",
    "4) En caso de que no esté el recurso pedido, hay que enviar un mensaje de error. ¿Cuál es?\n",
    "\n",
    "Revisen el código con cuidado. ¿Cómo pueden testear lo que hicieron?"
   ]
  },
  {
   "cell_type": "code",
   "execution_count": 3,
   "id": "c227e2b8",
   "metadata": {},
   "outputs": [
    {
     "name": "stdout",
     "output_type": "stream",
     "text": [
      "Esperemos a que nos llegue un mensaje...\n",
      "Nos pidieron una conexión! Abriendo socket para:  <socket.socket fd=924, family=AddressFamily.AF_INET, type=SocketKind.SOCK_STREAM, proto=0, laddr=('127.0.0.1', 2190), raddr=('127.0.0.1', 53431)>\n",
      "GET /prueba.txt HTTP/1.1\n",
      "Host: localhost:2190\n",
      "Connection: keep-alive\n",
      "Cache-Control: max-age=0\n",
      "sec-ch-ua: \"Google Chrome\";v=\"123\", \"Not:A-Brand\";v=\"8\", \"Chromium\";v=\"123\"\n",
      "sec-ch-ua-mobile: ?0\n",
      "sec-ch-ua-platform: \"Windows\"\n",
      "Upgrade-Insecure-Requests: 1\n",
      "User-Agent: Mozilla/5.0 (Windows NT 10.0; Win64; x64) AppleWebKit/537.36 (KHTML, like Gecko) Chrome/123.0.0.0 Safari/537.36\n",
      "Accept: text/html,application/xhtml+xml,application/xml;q=0.9,image/avif,image/webp,image/apng,*/*;q=0.8,application/signed-exchange;v=b3;q=0.7\n",
      "Sec-Fetch-Site: cross-site\n",
      "Sec-Fetch-Mode: navigate\n",
      "Sec-Fetch-User: ?1\n",
      "Sec-Fetch-Dest: document\n",
      "Accept-Encoding: gzip, deflate, br, zstd\n",
      "Accept-Language: es-US,es;q=0.9,en-GB;q=0.8,en;q=0.7,es-419;q=0.6\n",
      "Cookie: _xsrf=2|86339507|aed6bc9c6000c8635719e00c46291fcc|1710521930; username-localhost-8888=\"2|1:0|10:1711724954|23:username-localhost-8888|44:MzQ0YTE5NWVkNTczNDQxMDk1ZjJhY2I2MzMxNDA3NDA=|340bd251faf44a01319329862f14ddc54992e2a8436d185964e5de237d4518e1\"\n",
      "\n",
      "\n",
      "/prueba.txt\n",
      "['Cheat sheet - Web Server.pdf', 'Diapositivas - Taller Web Server.pdf', 'prueba.txt', 'Taller webserver.ipynb']\n",
      "esto es una prueba\n",
      "Esperemos a que nos llegue un mensaje...\n",
      "Nos pidieron una conexión! Abriendo socket para:  <socket.socket fd=908, family=AddressFamily.AF_INET, type=SocketKind.SOCK_STREAM, proto=0, laddr=('127.0.0.1', 2190), raddr=('127.0.0.1', 53433)>\n",
      "\n"
     ]
    },
    {
     "ename": "IndexError",
     "evalue": "list index out of range",
     "output_type": "error",
     "traceback": [
      "\u001b[1;31m---------------------------------------------------------------------------\u001b[0m",
      "\u001b[1;31mIndexError\u001b[0m                                Traceback (most recent call last)",
      "\u001b[1;32m<ipython-input-3-fbb03e7f95c4>\u001b[0m in \u001b[0;36m<module>\u001b[1;34m\u001b[0m\n\u001b[0;32m     13\u001b[0m         \u001b[0mmessage\u001b[0m \u001b[1;33m=\u001b[0m \u001b[0mconnectionSocket\u001b[0m\u001b[1;33m.\u001b[0m\u001b[0mrecv\u001b[0m\u001b[1;33m(\u001b[0m\u001b[1;36m1024\u001b[0m\u001b[1;33m)\u001b[0m\u001b[1;33m.\u001b[0m\u001b[0mdecode\u001b[0m\u001b[1;33m(\u001b[0m\u001b[1;33m)\u001b[0m \u001b[1;31m#Recibir el mensaje\u001b[0m\u001b[1;33m\u001b[0m\u001b[0m\n\u001b[0;32m     14\u001b[0m         \u001b[0mprint\u001b[0m\u001b[1;33m(\u001b[0m\u001b[0mmessage\u001b[0m\u001b[1;33m)\u001b[0m\u001b[1;33m\u001b[0m\u001b[0m\n\u001b[1;32m---> 15\u001b[1;33m         \u001b[0mfilename\u001b[0m \u001b[1;33m=\u001b[0m \u001b[0mmessage\u001b[0m\u001b[1;33m.\u001b[0m\u001b[0msplit\u001b[0m\u001b[1;33m(\u001b[0m\u001b[1;33m)\u001b[0m\u001b[1;33m[\u001b[0m\u001b[1;36m1\u001b[0m\u001b[1;33m]\u001b[0m \u001b[1;31m# Resolver qué recurso que pide el mensaje\u001b[0m\u001b[1;33m\u001b[0m\u001b[0m\n\u001b[0m\u001b[0;32m     16\u001b[0m         \u001b[0mprint\u001b[0m\u001b[1;33m(\u001b[0m\u001b[0mfilename\u001b[0m\u001b[1;33m)\u001b[0m\u001b[1;33m\u001b[0m\u001b[0m\n\u001b[0;32m     17\u001b[0m         \u001b[0mprint\u001b[0m\u001b[1;33m(\u001b[0m\u001b[0mos\u001b[0m\u001b[1;33m.\u001b[0m\u001b[0mlistdir\u001b[0m\u001b[1;33m(\u001b[0m\u001b[1;33m)\u001b[0m\u001b[1;33m)\u001b[0m\u001b[1;33m\u001b[0m\u001b[0m\n",
      "\u001b[1;31mIndexError\u001b[0m: list index out of range"
     ]
    }
   ],
   "source": [
    "# hacemos los mensajes de respuesta\n",
    "import os\n",
    "header_ok = \"HTTP/1.1 200 OK\\r\\n\\r\\n\".encode()\n",
    "header_error = \"HTTP/1.1 404 Not Found\\r\\n\\r\\n\".encode()\n",
    "\n",
    "\n",
    "while True:\n",
    "    print('Esperemos a que nos llegue un mensaje...')\n",
    "    connectionSocket, addr = serverSocket.accept() #Si nos llega un pedido de conexión, con esta línea la aceptamos.\n",
    "    print(\"Nos pidieron una conexión! Abriendo socket para: \", connectionSocket)\n",
    "\n",
    "    try:\n",
    "        message = connectionSocket.recv(1024).decode() #Recibir el mensaje\n",
    "        print(message)\n",
    "        filename = message.split()[1] # Resolver qué recurso que pide el mensaje\n",
    "        print(filename)\n",
    "        print(os.listdir())\n",
    "        f = open(filename[1:]) # queda solo el nombre del request\n",
    "        data_respuesta = f.read() # Cargar el recurso\n",
    "        print(data_respuesta)\n",
    "\n",
    "        #Enviar el header HTTP de la respuesta\n",
    "        connectionSocket.send(header_ok)\n",
    "\n",
    "        #Las siguientes líneas envian el contenido de la respuesta\n",
    "        for i in range(0, len(data_respuesta)):\n",
    "            connectionSocket.send(data_respuesta[i].encode())\n",
    "            connectionSocket.send(\"\\r\\n\".encode())\n",
    "        connectionSocket.close()\n",
    "\n",
    "    except IOError:\n",
    "        #En caso de no tener el archivo, enviar mensaje HTTP correspondiente\n",
    "        connectionSocket.send(header_error) \n",
    "        connectionSocket.send(\"We cannot find the file\".encode())\n",
    "        connectionSocket.send(\"\\r\\n\".encode())\n",
    "\n",
    "        connectionSocket.close()"
   ]
  },
  {
   "cell_type": "code",
   "execution_count": null,
   "id": "f30ab5df",
   "metadata": {},
   "outputs": [],
   "source": []
  }
 ],
 "metadata": {
  "kernelspec": {
   "display_name": "Python 3 (ipykernel)",
   "language": "python",
   "name": "python3"
  },
  "language_info": {
   "codemirror_mode": {
    "name": "ipython",
    "version": 3
   },
   "file_extension": ".py",
   "mimetype": "text/x-python",
   "name": "python",
   "nbconvert_exporter": "python",
   "pygments_lexer": "ipython3",
   "version": "3.6.6"
  }
 },
 "nbformat": 4,
 "nbformat_minor": 5
}
